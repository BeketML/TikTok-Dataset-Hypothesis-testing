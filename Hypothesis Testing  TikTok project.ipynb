{
 "cells": [
  {
   "cell_type": "markdown",
   "metadata": {
    "id": "DtNBZFHO3M7n"
   },
   "source": [
    "# **TikTok Project**"
   ]
  },
  {
   "cell_type": "markdown",
   "metadata": {
    "id": "j-u8hxWUk64w"
   },
   "source": [
    "# Data Dictionary for TikTok Dataset\n",
    "\n",
    "This dataset, `tiktok_dataset.csv`, contains synthetic data created in partnership with TikTok. It includes 19,383 rows, where each row represents a different published TikTok video in which a claim/opinion has been made. The dataset consists of 12 columns with the following details:\n",
    "\n",
    "| Column Name               | Data Type | Description                                                                                              |\n",
    "|---------------------------|-----------|----------------------------------------------------------------------------------------------------------|\n",
    "| #                         | int       | TikTok assigned number for video with claim/opinion.                                                     |\n",
    "| claim_status              | obj       | Whether the published video has been identified as an “opinion” or a “claim.” An “opinion” is a personal belief, whereas a “claim” refers to information that is either unsourced or from an unverified source. |\n",
    "| video_id                  | int       | Random identifying number assigned to video upon publication on TikTok.                                  |\n",
    "| video_duration_sec        | int       | How long the published video is measured in seconds.                                                     |\n",
    "| video_transcription_text  | obj       | Transcribed text of the words spoken in the published video.                                             |\n",
    "| verified_status           | obj       | Indicates the status of the TikTok user who published the video, either “verified” or “not verified.”    |\n",
    "| author_ban_status         | obj       | Indicates the status of the TikTok user in terms of permissions: “active,” “under scrutiny,” or “banned.”|\n",
    "| video_view_count          | float     | The total number of times the published video has been viewed.                                           |\n",
    "| video_like_count          | float     | The total number of times the published video has been liked by other users.                             |\n",
    "| video_share_count         | float     | The total number of times the published video has been shared by other users.                            |\n",
    "| video_download_count      | float     | The total number of times the published video has been downloaded by other users.                        |\n",
    "| video_comment_count       | float     | The total number of comments on the published video.                                                     |\n"
   ]
  },
  {
   "cell_type": "markdown",
   "metadata": {
    "id": "rgSbVJvomcVa"
   },
   "source": [
    "\n",
    "# **Course 4 End-of-course project: Data exploration and hypothesis testing**\n",
    "\n",
    "In this activity, you will explore the data provided and conduct hypothesis testing.\n",
    "<br/>\n",
    "\n",
    "**The purpose** of this project is to demostrate knowledge of how to prepare, create, and analyze hypothesis tests.\n",
    "\n",
    "**The goal** is to apply descriptive and inferential statistics, probability distributions, and hypothesis testing in Python.\n",
    "<br/>\n",
    "\n",
    "*This activity has three parts:*\n",
    "\n",
    "**Part 1:** Imports and data loading\n",
    "* What data packages will be necessary for hypothesis testing?\n",
    "\n",
    "**Part 2:** Conduct hypothesis testing\n",
    "* How will descriptive statistics help you analyze your data?\n",
    "\n",
    "* How will you formulate your null hypothesis and alternative hypothesis?\n",
    "\n",
    "**Part 3:** Communicate insights with stakeholders\n",
    "\n",
    "* What key business insight(s) emerge from your hypothesis test?\n",
    "\n",
    "* What business recommendations do you propose based on your results?\n",
    "\n",
    "<br/>\n",
    "\n",
    "Follow the instructions and answer the questions below to complete the activity. Then, complete an executive summary using the questions listed on the PACE Strategy Document.\n",
    "\n",
    "Be sure to complete this activity before moving on. The next course item will provide you with a completed exemplar to compare to your own work.\n",
    "\n"
   ]
  },
  {
   "cell_type": "markdown",
   "metadata": {
    "id": "qwXf61KLibBj"
   },
   "source": [
    "# **Data exploration and hypothesis testing**"
   ]
  },
  {
   "cell_type": "markdown",
   "metadata": {
    "id": "N8qrn_UAzX6j"
   },
   "source": [
    "<img src=\"images/Pace.png\" width=\"100\" height=\"100\" align=left>\n",
    "\n",
    "# **PACE stages**"
   ]
  },
  {
   "cell_type": "markdown",
   "metadata": {
    "id": "pGaoqOgZiiR_"
   },
   "source": [
    "Throughout these project notebooks, you'll see references to the problem-solving framework PACE. The following notebook components are labeled with the respective PACE stage: Plan, Analyze, Construct, and Execute."
   ]
  },
  {
   "cell_type": "markdown",
   "metadata": {
    "id": "Bb1HNu3FzX6k"
   },
   "source": [
    "<img src=\"images/Plan.png\" width=\"100\" height=\"100\" align=left>\n",
    "\n",
    "\n",
    "## **PACE: Plan**\n",
    "\n",
    "Consider the questions in your PACE Strategy Document and those below to craft your response.\n",
    "\n",
    "1. What is your research question for this data project? Later on, you will need to formulate the null and alternative hypotheses as the first step of your hypothesis test. Consider your research question now, at the start of this task."
   ]
  },
  {
   "cell_type": "markdown",
   "metadata": {
    "id": "iHhO44UenHcC"
   },
   "source": [
    "==> ENTER YOUR RESPONSE HERE"
   ]
  },
  {
   "cell_type": "code",
   "execution_count": 6,
   "metadata": {},
   "outputs": [
    {
     "name": "stdout",
     "output_type": "stream",
     "text": [
      "Collecting skimpy\n",
      "  Downloading skimpy-0.0.5-py3-none-any.whl (15 kB)\n",
      "Collecting typeguard<3.0.0,>=2.12.1\n",
      "  Downloading typeguard-2.13.3-py3-none-any.whl (17 kB)\n",
      "Collecting Pygments<3.0.0,>=2.10.0\n",
      "  Downloading pygments-2.17.2-py3-none-any.whl (1.2 MB)\n",
      "     |████████████████████████████████| 1.2 MB 60.4 MB/s            \n",
      "\u001b[?25hRequirement already satisfied: click==7.1.2 in /opt/conda/lib/python3.7/site-packages (from skimpy) (7.1.2)\n",
      "Collecting rich<11.0.0,>=10.9.0\n",
      "  Downloading rich-10.16.2-py3-none-any.whl (214 kB)\n",
      "     |████████████████████████████████| 214 kB 73.1 MB/s            \n",
      "\u001b[?25hRequirement already satisfied: pandas<2.0.0,>=1.3.2 in /opt/conda/lib/python3.7/site-packages (from skimpy) (1.3.5)\n",
      "Requirement already satisfied: numpy>=1.17.3 in /opt/conda/lib/python3.7/site-packages (from pandas<2.0.0,>=1.3.2->skimpy) (1.18.4)\n",
      "Requirement already satisfied: pytz>=2017.3 in /opt/conda/lib/python3.7/site-packages (from pandas<2.0.0,>=1.3.2->skimpy) (2020.1)\n",
      "Requirement already satisfied: python-dateutil>=2.7.3 in /opt/conda/lib/python3.7/site-packages (from pandas<2.0.0,>=1.3.2->skimpy) (2.8.1)\n",
      "Collecting commonmark<0.10.0,>=0.9.0\n",
      "  Downloading commonmark-0.9.1-py2.py3-none-any.whl (51 kB)\n",
      "     |████████████████████████████████| 51 kB 32.8 MB/s            \n",
      "\u001b[?25hCollecting colorama<0.5.0,>=0.4.0\n",
      "  Downloading colorama-0.4.6-py2.py3-none-any.whl (25 kB)\n",
      "Requirement already satisfied: typing-extensions<5.0,>=3.7.4 in /opt/conda/lib/python3.7/site-packages (from rich<11.0.0,>=10.9.0->skimpy) (3.7.4.2)\n",
      "Requirement already satisfied: six>=1.5 in /opt/conda/lib/python3.7/site-packages (from python-dateutil>=2.7.3->pandas<2.0.0,>=1.3.2->skimpy) (1.14.0)\n",
      "Installing collected packages: Pygments, commonmark, colorama, typeguard, rich, skimpy\n",
      "  Attempting uninstall: Pygments\n",
      "    Found existing installation: Pygments 2.6.1\n",
      "    Uninstalling Pygments-2.6.1:\n",
      "      Successfully uninstalled Pygments-2.6.1\n",
      "Successfully installed Pygments-2.17.2 colorama-0.4.6 commonmark-0.9.1 rich-10.16.2 skimpy-0.0.5 typeguard-2.13.3\n",
      "\u001b[33mWARNING: You are using pip version 21.3.1; however, version 24.0 is available.\n",
      "You should consider upgrading via the '/opt/conda/bin/python3 -m pip install --upgrade pip' command.\u001b[0m\n"
     ]
    }
   ],
   "source": [
    "!pip install skimpy"
   ]
  },
  {
   "cell_type": "markdown",
   "metadata": {
    "id": "Kp3uDhhSg_qu"
   },
   "source": [
    "*Complete the following steps to perform statistical analysis of your data:*"
   ]
  },
  {
   "cell_type": "markdown",
   "metadata": {
    "id": "xgQEdIN7f1Jq"
   },
   "source": [
    "### **1. Imports and Data Loading**"
   ]
  },
  {
   "cell_type": "code",
   "execution_count": 27,
   "metadata": {
    "id": "1Q-GL2UrgWWG"
   },
   "outputs": [],
   "source": [
    "# Packages for data manipulation\n",
    "import pandas as pd\n",
    "import numpy as np\n",
    "\n",
    "# Packages for data visualization\n",
    "import matplotlib.pyplot as plt\n",
    "import seaborn as sns\n",
    "import plotly.express as px\n",
    "\n",
    "# Packages for statistics\n",
    "from scipy import stats\n",
    "import klib\n",
    "import skimpy"
   ]
  },
  {
   "cell_type": "code",
   "execution_count": 8,
   "metadata": {
    "id": "HLhV9YACjlC4"
   },
   "outputs": [
    {
     "name": "stdout",
     "output_type": "stream",
     "text": [
      "(19382, 12)\n"
     ]
    },
    {
     "data": {
      "text/html": [
       "<div>\n",
       "<style scoped>\n",
       "    .dataframe tbody tr th:only-of-type {\n",
       "        vertical-align: middle;\n",
       "    }\n",
       "\n",
       "    .dataframe tbody tr th {\n",
       "        vertical-align: top;\n",
       "    }\n",
       "\n",
       "    .dataframe thead th {\n",
       "        text-align: right;\n",
       "    }\n",
       "</style>\n",
       "<table border=\"1\" class=\"dataframe\">\n",
       "  <thead>\n",
       "    <tr style=\"text-align: right;\">\n",
       "      <th></th>\n",
       "      <th>#</th>\n",
       "      <th>claim_status</th>\n",
       "      <th>video_id</th>\n",
       "      <th>video_duration_sec</th>\n",
       "      <th>video_transcription_text</th>\n",
       "      <th>verified_status</th>\n",
       "      <th>author_ban_status</th>\n",
       "      <th>video_view_count</th>\n",
       "      <th>video_like_count</th>\n",
       "      <th>video_share_count</th>\n",
       "      <th>video_download_count</th>\n",
       "      <th>video_comment_count</th>\n",
       "    </tr>\n",
       "  </thead>\n",
       "  <tbody>\n",
       "    <tr>\n",
       "      <th>0</th>\n",
       "      <td>1</td>\n",
       "      <td>claim</td>\n",
       "      <td>7017666017</td>\n",
       "      <td>59</td>\n",
       "      <td>someone shared with me that drone deliveries a...</td>\n",
       "      <td>not verified</td>\n",
       "      <td>under review</td>\n",
       "      <td>343296.0</td>\n",
       "      <td>19425.0</td>\n",
       "      <td>241.0</td>\n",
       "      <td>1.0</td>\n",
       "      <td>0.0</td>\n",
       "    </tr>\n",
       "    <tr>\n",
       "      <th>1</th>\n",
       "      <td>2</td>\n",
       "      <td>claim</td>\n",
       "      <td>4014381136</td>\n",
       "      <td>32</td>\n",
       "      <td>someone shared with me that there are more mic...</td>\n",
       "      <td>not verified</td>\n",
       "      <td>active</td>\n",
       "      <td>140877.0</td>\n",
       "      <td>77355.0</td>\n",
       "      <td>19034.0</td>\n",
       "      <td>1161.0</td>\n",
       "      <td>684.0</td>\n",
       "    </tr>\n",
       "    <tr>\n",
       "      <th>2</th>\n",
       "      <td>3</td>\n",
       "      <td>claim</td>\n",
       "      <td>9859838091</td>\n",
       "      <td>31</td>\n",
       "      <td>someone shared with me that american industria...</td>\n",
       "      <td>not verified</td>\n",
       "      <td>active</td>\n",
       "      <td>902185.0</td>\n",
       "      <td>97690.0</td>\n",
       "      <td>2858.0</td>\n",
       "      <td>833.0</td>\n",
       "      <td>329.0</td>\n",
       "    </tr>\n",
       "    <tr>\n",
       "      <th>3</th>\n",
       "      <td>4</td>\n",
       "      <td>claim</td>\n",
       "      <td>1866847991</td>\n",
       "      <td>25</td>\n",
       "      <td>someone shared with me that the metro of st. p...</td>\n",
       "      <td>not verified</td>\n",
       "      <td>active</td>\n",
       "      <td>437506.0</td>\n",
       "      <td>239954.0</td>\n",
       "      <td>34812.0</td>\n",
       "      <td>1234.0</td>\n",
       "      <td>584.0</td>\n",
       "    </tr>\n",
       "    <tr>\n",
       "      <th>4</th>\n",
       "      <td>5</td>\n",
       "      <td>claim</td>\n",
       "      <td>7105231098</td>\n",
       "      <td>19</td>\n",
       "      <td>someone shared with me that the number of busi...</td>\n",
       "      <td>not verified</td>\n",
       "      <td>active</td>\n",
       "      <td>56167.0</td>\n",
       "      <td>34987.0</td>\n",
       "      <td>4110.0</td>\n",
       "      <td>547.0</td>\n",
       "      <td>152.0</td>\n",
       "    </tr>\n",
       "  </tbody>\n",
       "</table>\n",
       "</div>"
      ],
      "text/plain": [
       "   # claim_status    video_id  video_duration_sec  \\\n",
       "0  1        claim  7017666017                  59   \n",
       "1  2        claim  4014381136                  32   \n",
       "2  3        claim  9859838091                  31   \n",
       "3  4        claim  1866847991                  25   \n",
       "4  5        claim  7105231098                  19   \n",
       "\n",
       "                            video_transcription_text verified_status  \\\n",
       "0  someone shared with me that drone deliveries a...    not verified   \n",
       "1  someone shared with me that there are more mic...    not verified   \n",
       "2  someone shared with me that american industria...    not verified   \n",
       "3  someone shared with me that the metro of st. p...    not verified   \n",
       "4  someone shared with me that the number of busi...    not verified   \n",
       "\n",
       "  author_ban_status  video_view_count  video_like_count  video_share_count  \\\n",
       "0      under review          343296.0           19425.0              241.0   \n",
       "1            active          140877.0           77355.0            19034.0   \n",
       "2            active          902185.0           97690.0             2858.0   \n",
       "3            active          437506.0          239954.0            34812.0   \n",
       "4            active           56167.0           34987.0             4110.0   \n",
       "\n",
       "   video_download_count  video_comment_count  \n",
       "0                   1.0                  0.0  \n",
       "1                1161.0                684.0  \n",
       "2                 833.0                329.0  \n",
       "3                1234.0                584.0  \n",
       "4                 547.0                152.0  "
      ]
     },
     "execution_count": 8,
     "metadata": {},
     "output_type": "execute_result"
    }
   ],
   "source": [
    "# Load dataset into dataframe\n",
    "data = pd.read_csv(\"tiktok_dataset.csv\")\n",
    "print(data.shape)\n",
    "data.head()"
   ]
  },
  {
   "cell_type": "markdown",
   "metadata": {
    "id": "UKhYTdVhf5B2"
   },
   "source": [
    "###  2. Data exploration\n",
    "\n",
    "Use descriptive statistics to conduct Exploratory Data Analysis (EDA).\n",
    "\n"
   ]
  },
  {
   "cell_type": "code",
   "execution_count": 12,
   "metadata": {
    "id": "2rfk95MLp4a_"
   },
   "outputs": [
    {
     "data": {
      "text/html": [
       "<pre style=\"white-space:pre;overflow-x:auto;line-height:normal;font-family:Menlo,'DejaVu Sans Mono',consolas,'Courier New',monospace\">╭───────────────────────────────────── skimpy summary ──────────────────────────────────────╮\n",
       "│ <span style=\"font-style: italic\">         Data Summary         </span> <span style=\"font-style: italic\">      Data Types       </span>                                    │\n",
       "│ ┏━━━━━━━━━━━━━━━━━━━┳━━━━━━━━┓ ┏━━━━━━━━━━━━━┳━━━━━━━┓                                    │\n",
       "│ ┃<span style=\"color: #008080; text-decoration-color: #008080; font-weight: bold\"> dataframe         </span>┃<span style=\"color: #008080; text-decoration-color: #008080; font-weight: bold\"> Values </span>┃ ┃<span style=\"color: #008080; text-decoration-color: #008080; font-weight: bold\"> Column Type </span>┃<span style=\"color: #008080; text-decoration-color: #008080; font-weight: bold\"> Count </span>┃                                    │\n",
       "│ ┡━━━━━━━━━━━━━━━━━━━╇━━━━━━━━┩ ┡━━━━━━━━━━━━━╇━━━━━━━┩                                    │\n",
       "│ │ Number of rows    │ 19382  │ │ float64     │ 5     │                                    │\n",
       "│ │ Number of columns │ 12     │ │ object      │ 4     │                                    │\n",
       "│ └───────────────────┴────────┘ │ int64       │ 3     │                                    │\n",
       "│                                └─────────────┴───────┘                                    │\n",
       "│ <span style=\"font-style: italic\">                                         number                                         </span>  │\n",
       "│ ┏━━━━━━━━┳━━━━━━━━┳━━━━━━━━┳━━━━━━━━┳━━━━━━━━┳━━━━━━━┳━━━━━━━━┳━━━━━━━┳━━━━━━━━┳━━━━━━━┓  │\n",
       "│ ┃<span style=\"font-weight: bold\">        </span>┃<span style=\"font-weight: bold\"> missin </span>┃<span style=\"font-weight: bold\"> comple </span>┃<span style=\"font-weight: bold\"> mean   </span>┃<span style=\"font-weight: bold\"> sd     </span>┃<span style=\"font-weight: bold\"> p0    </span>┃<span style=\"font-weight: bold\"> p25    </span>┃<span style=\"font-weight: bold\"> p75   </span>┃<span style=\"font-weight: bold\"> p100   </span>┃<span style=\"font-weight: bold\"> hist  </span>┃  │\n",
       "│ ┃        ┃<span style=\"font-weight: bold\"> g      </span>┃<span style=\"font-weight: bold\"> te     </span>┃        ┃        ┃       ┃        ┃       ┃        ┃       ┃  │\n",
       "│ ┃        ┃        ┃<span style=\"font-weight: bold\"> rate   </span>┃        ┃        ┃       ┃        ┃       ┃        ┃       ┃  │\n",
       "│ ┡━━━━━━━━╇━━━━━━━━╇━━━━━━━━╇━━━━━━━━╇━━━━━━━━╇━━━━━━━╇━━━━━━━━╇━━━━━━━╇━━━━━━━━╇━━━━━━━┩  │\n",
       "│ │ <span style=\"color: #af87ff; text-decoration-color: #af87ff\">#     </span> │ <span style=\"color: #008080; text-decoration-color: #008080\">     0</span> │ <span style=\"color: #008080; text-decoration-color: #008080\">     1</span> │ <span style=\"color: #008080; text-decoration-color: #008080\">  9700</span> │ <span style=\"color: #008080; text-decoration-color: #008080\">  5600</span> │ <span style=\"color: #008080; text-decoration-color: #008080\">    1</span> │ <span style=\"color: #008080; text-decoration-color: #008080\">  4800</span> │ <span style=\"color: #008080; text-decoration-color: #008080\">15000</span> │ <span style=\"color: #008080; text-decoration-color: #008080\"> 19000</span> │ <span style=\"color: #008000; text-decoration-color: #008000\">█████</span> │  │\n",
       "│ │        │        │        │        │        │       │        │       │        │ <span style=\"color: #008000; text-decoration-color: #008000\">  █  </span> │  │\n",
       "│ │ <span style=\"color: #af87ff; text-decoration-color: #af87ff\">video_</span> │ <span style=\"color: #008080; text-decoration-color: #008080\">     0</span> │ <span style=\"color: #008080; text-decoration-color: #008080\">     1</span> │ <span style=\"color: #008080; text-decoration-color: #008080\">560000</span> │ <span style=\"color: #008080; text-decoration-color: #008080\">250000</span> │ <span style=\"color: #008080; text-decoration-color: #008080\">12000</span> │ <span style=\"color: #008080; text-decoration-color: #008080\">340000</span> │ <span style=\"color: #008080; text-decoration-color: #008080\">78000</span> │ <span style=\"color: #008080; text-decoration-color: #008080\">100000</span> │ <span style=\"color: #008000; text-decoration-color: #008000\">████▇</span> │  │\n",
       "│ │ <span style=\"color: #af87ff; text-decoration-color: #af87ff\">id    </span> │        │        │ <span style=\"color: #008080; text-decoration-color: #008080\">  0000</span> │ <span style=\"color: #008080; text-decoration-color: #008080\">  0000</span> │ <span style=\"color: #008080; text-decoration-color: #008080\">00000</span> │ <span style=\"color: #008080; text-decoration-color: #008080\">  0000</span> │ <span style=\"color: #008080; text-decoration-color: #008080\">00000</span> │ <span style=\"color: #008080; text-decoration-color: #008080\"> 00000</span> │ <span style=\"color: #008000; text-decoration-color: #008000\">  █  </span> │  │\n",
       "│ │ <span style=\"color: #af87ff; text-decoration-color: #af87ff\">video_</span> │ <span style=\"color: #008080; text-decoration-color: #008080\">     0</span> │ <span style=\"color: #008080; text-decoration-color: #008080\">     1</span> │ <span style=\"color: #008080; text-decoration-color: #008080\">    32</span> │ <span style=\"color: #008080; text-decoration-color: #008080\">    16</span> │ <span style=\"color: #008080; text-decoration-color: #008080\">    5</span> │ <span style=\"color: #008080; text-decoration-color: #008080\">    18</span> │ <span style=\"color: #008080; text-decoration-color: #008080\">   47</span> │ <span style=\"color: #008080; text-decoration-color: #008080\">    60</span> │ <span style=\"color: #008000; text-decoration-color: #008000\">█▇▇▇▇</span> │  │\n",
       "│ │ <span style=\"color: #af87ff; text-decoration-color: #af87ff\">durati</span> │        │        │        │        │       │        │       │        │ <span style=\"color: #008000; text-decoration-color: #008000\">  █  </span> │  │\n",
       "│ │ <span style=\"color: #af87ff; text-decoration-color: #af87ff\">on_sec</span> │        │        │        │        │       │        │       │        │       │  │\n",
       "│ │ <span style=\"color: #af87ff; text-decoration-color: #af87ff\">video_</span> │ <span style=\"color: #008080; text-decoration-color: #008080\">   300</span> │ <span style=\"color: #008080; text-decoration-color: #008080\">  0.98</span> │ <span style=\"color: #008080; text-decoration-color: #008080\">250000</span> │ <span style=\"color: #008080; text-decoration-color: #008080\">320000</span> │ <span style=\"color: #008080; text-decoration-color: #008080\">   20</span> │ <span style=\"color: #008080; text-decoration-color: #008080\">  4900</span> │ <span style=\"color: #008080; text-decoration-color: #008080\">50000</span> │ <span style=\"color: #008080; text-decoration-color: #008080\">100000</span> │ <span style=\"color: #008000; text-decoration-color: #008000\">█▁▁▁▁</span> │  │\n",
       "│ │ <span style=\"color: #af87ff; text-decoration-color: #af87ff\">view_c</span> │        │        │        │        │       │        │ <span style=\"color: #008080; text-decoration-color: #008080\">    0</span> │ <span style=\"color: #008080; text-decoration-color: #008080\">     0</span> │ <span style=\"color: #008000; text-decoration-color: #008000\">  ▁  </span> │  │\n",
       "│ │ <span style=\"color: #af87ff; text-decoration-color: #af87ff\">ount  </span> │        │        │        │        │       │        │       │        │       │  │\n",
       "│ │ <span style=\"color: #af87ff; text-decoration-color: #af87ff\">video_</span> │ <span style=\"color: #008080; text-decoration-color: #008080\">   300</span> │ <span style=\"color: #008080; text-decoration-color: #008080\">  0.98</span> │ <span style=\"color: #008080; text-decoration-color: #008080\"> 84000</span> │ <span style=\"color: #008080; text-decoration-color: #008080\">130000</span> │ <span style=\"color: #008080; text-decoration-color: #008080\">    0</span> │ <span style=\"color: #008080; text-decoration-color: #008080\">   810</span> │ <span style=\"color: #008080; text-decoration-color: #008080\">13000</span> │ <span style=\"color: #008080; text-decoration-color: #008080\">660000</span> │ <span style=\"color: #008000; text-decoration-color: #008000\">█▁▁▁ </span> │  │\n",
       "│ │ <span style=\"color: #af87ff; text-decoration-color: #af87ff\">like_c</span> │        │        │        │        │       │        │ <span style=\"color: #008080; text-decoration-color: #008080\">    0</span> │        │       │  │\n",
       "│ │ <span style=\"color: #af87ff; text-decoration-color: #af87ff\">ount  </span> │        │        │        │        │       │        │       │        │       │  │\n",
       "│ │ <span style=\"color: #af87ff; text-decoration-color: #af87ff\">video_</span> │ <span style=\"color: #008080; text-decoration-color: #008080\">   300</span> │ <span style=\"color: #008080; text-decoration-color: #008080\">  0.98</span> │ <span style=\"color: #008080; text-decoration-color: #008080\"> 17000</span> │ <span style=\"color: #008080; text-decoration-color: #008080\"> 32000</span> │ <span style=\"color: #008080; text-decoration-color: #008080\">    0</span> │ <span style=\"color: #008080; text-decoration-color: #008080\">   120</span> │ <span style=\"color: #008080; text-decoration-color: #008080\">18000</span> │ <span style=\"color: #008080; text-decoration-color: #008080\">260000</span> │ <span style=\"color: #008000; text-decoration-color: #008000\"> █▁  </span> │  │\n",
       "│ │ <span style=\"color: #af87ff; text-decoration-color: #af87ff\">share_</span> │        │        │        │        │       │        │       │        │       │  │\n",
       "│ │ <span style=\"color: #af87ff; text-decoration-color: #af87ff\">count </span> │        │        │        │        │       │        │       │        │       │  │\n",
       "│ │ <span style=\"color: #af87ff; text-decoration-color: #af87ff\">video_</span> │ <span style=\"color: #008080; text-decoration-color: #008080\">   300</span> │ <span style=\"color: #008080; text-decoration-color: #008080\">  0.98</span> │ <span style=\"color: #008080; text-decoration-color: #008080\">  1000</span> │ <span style=\"color: #008080; text-decoration-color: #008080\">  2000</span> │ <span style=\"color: #008080; text-decoration-color: #008080\">    0</span> │ <span style=\"color: #008080; text-decoration-color: #008080\">     7</span> │ <span style=\"color: #008080; text-decoration-color: #008080\"> 1200</span> │ <span style=\"color: #008080; text-decoration-color: #008080\"> 15000</span> │ <span style=\"color: #008000; text-decoration-color: #008000\"> █▁  </span> │  │\n",
       "│ │ <span style=\"color: #af87ff; text-decoration-color: #af87ff\">downlo</span> │        │        │        │        │       │        │       │        │       │  │\n",
       "│ │ <span style=\"color: #af87ff; text-decoration-color: #af87ff\">ad_cou</span> │        │        │        │        │       │        │       │        │       │  │\n",
       "│ │ <span style=\"color: #af87ff; text-decoration-color: #af87ff\">nt    </span> │        │        │        │        │       │        │       │        │       │  │\n",
       "│ │ <span style=\"color: #af87ff; text-decoration-color: #af87ff\">video_</span> │ <span style=\"color: #008080; text-decoration-color: #008080\">   300</span> │ <span style=\"color: #008080; text-decoration-color: #008080\">  0.98</span> │ <span style=\"color: #008080; text-decoration-color: #008080\">   350</span> │ <span style=\"color: #008080; text-decoration-color: #008080\">   800</span> │ <span style=\"color: #008080; text-decoration-color: #008080\">    0</span> │ <span style=\"color: #008080; text-decoration-color: #008080\">     1</span> │ <span style=\"color: #008080; text-decoration-color: #008080\">  290</span> │ <span style=\"color: #008080; text-decoration-color: #008080\">  9600</span> │ <span style=\"color: #008000; text-decoration-color: #008000\">  █  </span> │  │\n",
       "│ │ <span style=\"color: #af87ff; text-decoration-color: #af87ff\">commen</span> │        │        │        │        │       │        │       │        │       │  │\n",
       "│ │ <span style=\"color: #af87ff; text-decoration-color: #af87ff\">t_coun</span> │        │        │        │        │       │        │       │        │       │  │\n",
       "│ │ <span style=\"color: #af87ff; text-decoration-color: #af87ff\">t     </span> │        │        │        │        │       │        │       │        │       │  │\n",
       "│ └────────┴────────┴────────┴────────┴────────┴───────┴────────┴───────┴────────┴───────┘  │\n",
       "╰─────────────────────────────────────────── End ───────────────────────────────────────────╯\n",
       "</pre>\n"
      ],
      "text/plain": [
       "╭───────────────────────────────────── skimpy summary ──────────────────────────────────────╮\n",
       "│ \u001b[3m         Data Summary         \u001b[0m \u001b[3m      Data Types       \u001b[0m                                    │\n",
       "│ ┏━━━━━━━━━━━━━━━━━━━┳━━━━━━━━┓ ┏━━━━━━━━━━━━━┳━━━━━━━┓                                    │\n",
       "│ ┃\u001b[1;36m \u001b[0m\u001b[1;36mdataframe        \u001b[0m\u001b[1;36m \u001b[0m┃\u001b[1;36m \u001b[0m\u001b[1;36mValues\u001b[0m\u001b[1;36m \u001b[0m┃ ┃\u001b[1;36m \u001b[0m\u001b[1;36mColumn Type\u001b[0m\u001b[1;36m \u001b[0m┃\u001b[1;36m \u001b[0m\u001b[1;36mCount\u001b[0m\u001b[1;36m \u001b[0m┃                                    │\n",
       "│ ┡━━━━━━━━━━━━━━━━━━━╇━━━━━━━━┩ ┡━━━━━━━━━━━━━╇━━━━━━━┩                                    │\n",
       "│ │ Number of rows    │ 19382  │ │ float64     │ 5     │                                    │\n",
       "│ │ Number of columns │ 12     │ │ object      │ 4     │                                    │\n",
       "│ └───────────────────┴────────┘ │ int64       │ 3     │                                    │\n",
       "│                                └─────────────┴───────┘                                    │\n",
       "│ \u001b[3m                                         number                                         \u001b[0m  │\n",
       "│ ┏━━━━━━━━┳━━━━━━━━┳━━━━━━━━┳━━━━━━━━┳━━━━━━━━┳━━━━━━━┳━━━━━━━━┳━━━━━━━┳━━━━━━━━┳━━━━━━━┓  │\n",
       "│ ┃\u001b[1m \u001b[0m\u001b[1m      \u001b[0m\u001b[1m \u001b[0m┃\u001b[1m \u001b[0m\u001b[1mmissin\u001b[0m\u001b[1m \u001b[0m┃\u001b[1m \u001b[0m\u001b[1mcomple\u001b[0m\u001b[1m \u001b[0m┃\u001b[1m \u001b[0m\u001b[1mmean  \u001b[0m\u001b[1m \u001b[0m┃\u001b[1m \u001b[0m\u001b[1msd    \u001b[0m\u001b[1m \u001b[0m┃\u001b[1m \u001b[0m\u001b[1mp0   \u001b[0m\u001b[1m \u001b[0m┃\u001b[1m \u001b[0m\u001b[1mp25   \u001b[0m\u001b[1m \u001b[0m┃\u001b[1m \u001b[0m\u001b[1mp75  \u001b[0m\u001b[1m \u001b[0m┃\u001b[1m \u001b[0m\u001b[1mp100  \u001b[0m\u001b[1m \u001b[0m┃\u001b[1m \u001b[0m\u001b[1mhist \u001b[0m\u001b[1m \u001b[0m┃  │\n",
       "│ ┃        ┃\u001b[1m \u001b[0m\u001b[1mg     \u001b[0m\u001b[1m \u001b[0m┃\u001b[1m \u001b[0m\u001b[1mte    \u001b[0m\u001b[1m \u001b[0m┃        ┃        ┃       ┃        ┃       ┃        ┃       ┃  │\n",
       "│ ┃        ┃        ┃\u001b[1m \u001b[0m\u001b[1mrate  \u001b[0m\u001b[1m \u001b[0m┃        ┃        ┃       ┃        ┃       ┃        ┃       ┃  │\n",
       "│ ┡━━━━━━━━╇━━━━━━━━╇━━━━━━━━╇━━━━━━━━╇━━━━━━━━╇━━━━━━━╇━━━━━━━━╇━━━━━━━╇━━━━━━━━╇━━━━━━━┩  │\n",
       "│ │ \u001b[38;5;141m#     \u001b[0m │ \u001b[36m     0\u001b[0m │ \u001b[36m     1\u001b[0m │ \u001b[36m  9700\u001b[0m │ \u001b[36m  5600\u001b[0m │ \u001b[36m    1\u001b[0m │ \u001b[36m  4800\u001b[0m │ \u001b[36m15000\u001b[0m │ \u001b[36m 19000\u001b[0m │ \u001b[32m█████\u001b[0m │  │\n",
       "│ │        │        │        │        │        │       │        │       │        │ \u001b[32m  █  \u001b[0m │  │\n",
       "│ │ \u001b[38;5;141mvideo_\u001b[0m │ \u001b[36m     0\u001b[0m │ \u001b[36m     1\u001b[0m │ \u001b[36m560000\u001b[0m │ \u001b[36m250000\u001b[0m │ \u001b[36m12000\u001b[0m │ \u001b[36m340000\u001b[0m │ \u001b[36m78000\u001b[0m │ \u001b[36m100000\u001b[0m │ \u001b[32m████▇\u001b[0m │  │\n",
       "│ │ \u001b[38;5;141mid    \u001b[0m │        │        │ \u001b[36m  0000\u001b[0m │ \u001b[36m  0000\u001b[0m │ \u001b[36m00000\u001b[0m │ \u001b[36m  0000\u001b[0m │ \u001b[36m00000\u001b[0m │ \u001b[36m 00000\u001b[0m │ \u001b[32m  █  \u001b[0m │  │\n",
       "│ │ \u001b[38;5;141mvideo_\u001b[0m │ \u001b[36m     0\u001b[0m │ \u001b[36m     1\u001b[0m │ \u001b[36m    32\u001b[0m │ \u001b[36m    16\u001b[0m │ \u001b[36m    5\u001b[0m │ \u001b[36m    18\u001b[0m │ \u001b[36m   47\u001b[0m │ \u001b[36m    60\u001b[0m │ \u001b[32m█▇▇▇▇\u001b[0m │  │\n",
       "│ │ \u001b[38;5;141mdurati\u001b[0m │        │        │        │        │       │        │       │        │ \u001b[32m  █  \u001b[0m │  │\n",
       "│ │ \u001b[38;5;141mon_sec\u001b[0m │        │        │        │        │       │        │       │        │       │  │\n",
       "│ │ \u001b[38;5;141mvideo_\u001b[0m │ \u001b[36m   300\u001b[0m │ \u001b[36m  0.98\u001b[0m │ \u001b[36m250000\u001b[0m │ \u001b[36m320000\u001b[0m │ \u001b[36m   20\u001b[0m │ \u001b[36m  4900\u001b[0m │ \u001b[36m50000\u001b[0m │ \u001b[36m100000\u001b[0m │ \u001b[32m█▁▁▁▁\u001b[0m │  │\n",
       "│ │ \u001b[38;5;141mview_c\u001b[0m │        │        │        │        │       │        │ \u001b[36m    0\u001b[0m │ \u001b[36m     0\u001b[0m │ \u001b[32m  ▁  \u001b[0m │  │\n",
       "│ │ \u001b[38;5;141mount  \u001b[0m │        │        │        │        │       │        │       │        │       │  │\n",
       "│ │ \u001b[38;5;141mvideo_\u001b[0m │ \u001b[36m   300\u001b[0m │ \u001b[36m  0.98\u001b[0m │ \u001b[36m 84000\u001b[0m │ \u001b[36m130000\u001b[0m │ \u001b[36m    0\u001b[0m │ \u001b[36m   810\u001b[0m │ \u001b[36m13000\u001b[0m │ \u001b[36m660000\u001b[0m │ \u001b[32m█▁▁▁ \u001b[0m │  │\n",
       "│ │ \u001b[38;5;141mlike_c\u001b[0m │        │        │        │        │       │        │ \u001b[36m    0\u001b[0m │        │       │  │\n",
       "│ │ \u001b[38;5;141mount  \u001b[0m │        │        │        │        │       │        │       │        │       │  │\n",
       "│ │ \u001b[38;5;141mvideo_\u001b[0m │ \u001b[36m   300\u001b[0m │ \u001b[36m  0.98\u001b[0m │ \u001b[36m 17000\u001b[0m │ \u001b[36m 32000\u001b[0m │ \u001b[36m    0\u001b[0m │ \u001b[36m   120\u001b[0m │ \u001b[36m18000\u001b[0m │ \u001b[36m260000\u001b[0m │ \u001b[32m █▁  \u001b[0m │  │\n",
       "│ │ \u001b[38;5;141mshare_\u001b[0m │        │        │        │        │       │        │       │        │       │  │\n",
       "│ │ \u001b[38;5;141mcount \u001b[0m │        │        │        │        │       │        │       │        │       │  │\n",
       "│ │ \u001b[38;5;141mvideo_\u001b[0m │ \u001b[36m   300\u001b[0m │ \u001b[36m  0.98\u001b[0m │ \u001b[36m  1000\u001b[0m │ \u001b[36m  2000\u001b[0m │ \u001b[36m    0\u001b[0m │ \u001b[36m     7\u001b[0m │ \u001b[36m 1200\u001b[0m │ \u001b[36m 15000\u001b[0m │ \u001b[32m █▁  \u001b[0m │  │\n",
       "│ │ \u001b[38;5;141mdownlo\u001b[0m │        │        │        │        │       │        │       │        │       │  │\n",
       "│ │ \u001b[38;5;141mad_cou\u001b[0m │        │        │        │        │       │        │       │        │       │  │\n",
       "│ │ \u001b[38;5;141mnt    \u001b[0m │        │        │        │        │       │        │       │        │       │  │\n",
       "│ │ \u001b[38;5;141mvideo_\u001b[0m │ \u001b[36m   300\u001b[0m │ \u001b[36m  0.98\u001b[0m │ \u001b[36m   350\u001b[0m │ \u001b[36m   800\u001b[0m │ \u001b[36m    0\u001b[0m │ \u001b[36m     1\u001b[0m │ \u001b[36m  290\u001b[0m │ \u001b[36m  9600\u001b[0m │ \u001b[32m  █  \u001b[0m │  │\n",
       "│ │ \u001b[38;5;141mcommen\u001b[0m │        │        │        │        │       │        │       │        │       │  │\n",
       "│ │ \u001b[38;5;141mt_coun\u001b[0m │        │        │        │        │       │        │       │        │       │  │\n",
       "│ │ \u001b[38;5;141mt     \u001b[0m │        │        │        │        │       │        │       │        │       │  │\n",
       "│ └────────┴────────┴────────┴────────┴────────┴───────┴────────┴───────┴────────┴───────┘  │\n",
       "╰─────────────────────────────────────────── End ───────────────────────────────────────────╯\n"
      ]
     },
     "metadata": {},
     "output_type": "display_data"
    }
   ],
   "source": [
    "skimpy.skim(data)\n"
   ]
  },
  {
   "cell_type": "markdown",
   "metadata": {},
   "source": [
    "## Data Summary\n",
    "\n",
    "- **Number of rows**: 19,382\n",
    "- **Number of columns**: 12\n",
    "\n",
    "### Data Types\n",
    "- **float64**: 5 columns\n",
    "- **object**: 4 columns\n",
    "- **int64**: 3 columns\n",
    "\n",
    "### Key Statistics\n",
    "- **#**: Mean = 9,700, SD = 5,600\n",
    "- **video_id**: Mean = 560,000, SD = 250,000\n",
    "- **duration_sec**: Mean = 32, SD = 16\n",
    "- **view_count**: Mean = 250,000, SD = 320,000\n",
    "- **like_count**: Mean = 84,000, SD = 130,000\n",
    "- **share_count**: Mean = 17,000, SD = 32,000\n",
    "- **download_count**: Mean = 1,000, SD = 2,000\n",
    "- **comment_count**: Mean = 350, SD = 800\n"
   ]
  },
  {
   "cell_type": "code",
   "execution_count": 16,
   "metadata": {},
   "outputs": [
    {
     "data": {
      "text/plain": [
       "GridSpec(6, 4)"
      ]
     },
     "execution_count": 16,
     "metadata": {},
     "output_type": "execute_result"
    },
    {
     "data": {
      "image/png": "[encoded data removed]",
      "text/plain": [
       "<Figure size 1296x1296 with 9 Axes>"
      ]
     },
     "metadata": {
      "needs_background": "light"
     },
     "output_type": "display_data"
    }
   ],
   "source": [
    "klib.cat_plot(data)"
   ]
  },
  {
   "cell_type": "code",
   "execution_count": 11,
   "metadata": {
    "id": "70vpvcv1gArp"
   },
   "outputs": [
    {
     "name": "stdout",
     "output_type": "stream",
     "text": [
      "Large dataset detected, using 10000 random samples for the plots. Summary statistics are still based on the entire dataset.\n",
      "Large dataset detected, using 10000 random samples for the plots. Summary statistics are still based on the entire dataset.\n",
      "Large dataset detected, using 10000 random samples for the plots. Summary statistics are still based on the entire dataset.\n",
      "Large dataset detected, using 10000 random samples for the plots. Summary statistics are still based on the entire dataset.\n",
      "Large dataset detected, using 10000 random samples for the plots. Summary statistics are still based on the entire dataset.\n"
     ]
    },
    {
     "data": {
      "text/plain": [
       "<matplotlib.axes._subplots.AxesSubplot at 0x7f1197afab50>"
      ]
     },
     "execution_count": 11,
     "metadata": {},
     "output_type": "execute_result"
    },
    {
     "data": {
      "image/png": "[encoded data removed]",
      "text/plain": [
       "<Figure size 900x180 with 1 Axes>"
      ]
     },
     "metadata": {
      "needs_background": "light"
     },
     "output_type": "display_data"
    },
    {
     "data": {
      "image/png": "[encoded data removed]",
      "text/plain": [
       "<Figure size 900x180 with 1 Axes>"
      ]
     },
     "metadata": {
      "needs_background": "light"
     },
     "output_type": "display_data"
    },
    {
     "data": {
      "image/png": "[encoded data removed]",
      "text/plain": [
       "<Figure size 900x180 with 1 Axes>"
      ]
     },
     "metadata": {
      "needs_background": "light"
     },
     "output_type": "display_data"
    },
    {
     "data": {
      "image/png": "[encoded data removed]",
      "text/plain": [
       "<Figure size 900x180 with 1 Axes>"
      ]
     },
     "metadata": {
      "needs_background": "light"
     },
     "output_type": "display_data"
    },
    {
     "data": {
      "image/png": "[encoded data removed]",
      "text/plain": [
       "<Figure size 900x180 with 1 Axes>"
      ]
     },
     "metadata": {
      "needs_background": "light"
     },
     "output_type": "display_data"
    }
   ],
   "source": [
    "klib.dist_plot(data['video_duration_sec'])\n",
    "klib.dist_plot(data['video_view_count'])\n",
    "klib.dist_plot(data['video_share_count'])\n",
    "klib.dist_plot(data['video_download_count'])\n",
    "klib.dist_plot(data['video_comment_count'])"
   ]
  },
  {
   "cell_type": "markdown",
   "metadata": {},
   "source": [
    "The most of part our data is right skewed except video_duration"
   ]
  },
  {
   "cell_type": "markdown",
   "metadata": {
    "id": "9OpeNQDdyIT6"
   },
   "source": [
    "Check for and handle missing values."
   ]
  },
  {
   "cell_type": "code",
   "execution_count": 14,
   "metadata": {
    "id": "BrunHcfa7xnT"
   },
   "outputs": [
    {
     "name": "stdout",
     "output_type": "stream",
     "text": [
      "#                             0\n",
      "claim_status                298\n",
      "video_id                      0\n",
      "video_duration_sec            0\n",
      "video_transcription_text    298\n",
      "verified_status               0\n",
      "author_ban_status             0\n",
      "video_view_count            298\n",
      "video_like_count            298\n",
      "video_share_count           298\n",
      "video_download_count        298\n",
      "video_comment_count         298\n",
      "dtype: int64\n"
     ]
    }
   ],
   "source": [
    "print(data.isnull().sum())"
   ]
  },
  {
   "cell_type": "code",
   "execution_count": 15,
   "metadata": {
    "id": "SHSj1Hma914I"
   },
   "outputs": [
    {
     "name": "stdout",
     "output_type": "stream",
     "text": [
      "Before drop nan values:  (19382, 12)\n",
      "After drop nan values:  (19084, 12)\n"
     ]
    }
   ],
   "source": [
    "print(\"Before drop nan values: \", data.shape)\n",
    "data = data.dropna()\n",
    "print(\"After drop nan values: \", data.shape)\n"
   ]
  },
  {
   "cell_type": "markdown",
   "metadata": {
    "id": "7Mn5GJ460HUS"
   },
   "source": [
    "\n",
    "\n",
    "Our goal in this step is to conduct a two-sample t-test. Recall the steps for conducting a hypothesis test:\n",
    "\n",
    "\n",
    "1.   State the null hypothesis and the alternative hypothesis\n",
    "2.   Choose a signficance level\n",
    "3.   Find the p-value\n",
    "4.   Reject or fail to reject the null hypothesis\n",
    "\n"
   ]
  },
  {
   "cell_type": "markdown",
   "metadata": {
    "id": "IVHpnfvNeTUA"
   },
   "source": [
    "We choose 5% as the significance level and proceed with a two-sample t-test."
   ]
  },
  {
   "cell_type": "code",
   "execution_count": 20,
   "metadata": {
    "id": "rdlsXg7Dhbrd"
   },
   "outputs": [],
   "source": [
    "group_verified = data[data['verified_status'] == 'verified']\n",
    "group_not_verified = data[data['verified_status'] == 'not verified']\n"
   ]
  },
  {
   "cell_type": "code",
   "execution_count": 22,
   "metadata": {},
   "outputs": [
    {
     "data": {
      "text/html": [
       "<div>\n",
       "<style scoped>\n",
       "    .dataframe tbody tr th:only-of-type {\n",
       "        vertical-align: middle;\n",
       "    }\n",
       "\n",
       "    .dataframe tbody tr th {\n",
       "        vertical-align: top;\n",
       "    }\n",
       "\n",
       "    .dataframe thead th {\n",
       "        text-align: right;\n",
       "    }\n",
       "</style>\n",
       "<table border=\"1\" class=\"dataframe\">\n",
       "  <thead>\n",
       "    <tr style=\"text-align: right;\">\n",
       "      <th></th>\n",
       "      <th>#</th>\n",
       "      <th>video_id</th>\n",
       "      <th>video_duration_sec</th>\n",
       "      <th>video_view_count</th>\n",
       "      <th>video_like_count</th>\n",
       "      <th>video_share_count</th>\n",
       "      <th>video_download_count</th>\n",
       "      <th>video_comment_count</th>\n",
       "    </tr>\n",
       "  </thead>\n",
       "  <tbody>\n",
       "    <tr>\n",
       "      <th>count</th>\n",
       "      <td>1200.000000</td>\n",
       "      <td>1.200000e+03</td>\n",
       "      <td>1200.00000</td>\n",
       "      <td>1200.000000</td>\n",
       "      <td>1200.000000</td>\n",
       "      <td>1200.000000</td>\n",
       "      <td>1200.000000</td>\n",
       "      <td>1200.000000</td>\n",
       "    </tr>\n",
       "    <tr>\n",
       "      <th>mean</th>\n",
       "      <td>12535.068333</td>\n",
       "      <td>5.625893e+09</td>\n",
       "      <td>31.77500</td>\n",
       "      <td>91439.164167</td>\n",
       "      <td>30337.633333</td>\n",
       "      <td>6591.448333</td>\n",
       "      <td>358.146667</td>\n",
       "      <td>134.877500</td>\n",
       "    </tr>\n",
       "    <tr>\n",
       "      <th>std</th>\n",
       "      <td>4619.487679</td>\n",
       "      <td>2.503183e+09</td>\n",
       "      <td>15.96648</td>\n",
       "      <td>221138.764926</td>\n",
       "      <td>86788.710750</td>\n",
       "      <td>20761.240422</td>\n",
       "      <td>1215.899094</td>\n",
       "      <td>546.816121</td>\n",
       "    </tr>\n",
       "    <tr>\n",
       "      <th>min</th>\n",
       "      <td>10.000000</td>\n",
       "      <td>1.257971e+09</td>\n",
       "      <td>5.00000</td>\n",
       "      <td>37.000000</td>\n",
       "      <td>1.000000</td>\n",
       "      <td>0.000000</td>\n",
       "      <td>0.000000</td>\n",
       "      <td>0.000000</td>\n",
       "    </tr>\n",
       "    <tr>\n",
       "      <th>25%</th>\n",
       "      <td>10341.750000</td>\n",
       "      <td>3.477452e+09</td>\n",
       "      <td>18.00000</td>\n",
       "      <td>2974.750000</td>\n",
       "      <td>403.750000</td>\n",
       "      <td>51.750000</td>\n",
       "      <td>3.000000</td>\n",
       "      <td>0.000000</td>\n",
       "    </tr>\n",
       "    <tr>\n",
       "      <th>50%</th>\n",
       "      <td>13199.000000</td>\n",
       "      <td>5.575078e+09</td>\n",
       "      <td>31.00000</td>\n",
       "      <td>6023.500000</td>\n",
       "      <td>1125.000000</td>\n",
       "      <td>178.500000</td>\n",
       "      <td>11.000000</td>\n",
       "      <td>2.000000</td>\n",
       "    </tr>\n",
       "    <tr>\n",
       "      <th>75%</th>\n",
       "      <td>16108.250000</td>\n",
       "      <td>7.875904e+09</td>\n",
       "      <td>46.00000</td>\n",
       "      <td>9036.750000</td>\n",
       "      <td>2558.000000</td>\n",
       "      <td>551.750000</td>\n",
       "      <td>34.000000</td>\n",
       "      <td>7.000000</td>\n",
       "    </tr>\n",
       "    <tr>\n",
       "      <th>max</th>\n",
       "      <td>19075.000000</td>\n",
       "      <td>9.994544e+09</td>\n",
       "      <td>60.00000</td>\n",
       "      <td>997769.000000</td>\n",
       "      <td>531593.000000</td>\n",
       "      <td>150614.000000</td>\n",
       "      <td>12604.000000</td>\n",
       "      <td>6294.000000</td>\n",
       "    </tr>\n",
       "  </tbody>\n",
       "</table>\n",
       "</div>"
      ],
      "text/plain": [
       "                  #      video_id  video_duration_sec  video_view_count  \\\n",
       "count   1200.000000  1.200000e+03          1200.00000       1200.000000   \n",
       "mean   12535.068333  5.625893e+09            31.77500      91439.164167   \n",
       "std     4619.487679  2.503183e+09            15.96648     221138.764926   \n",
       "min       10.000000  1.257971e+09             5.00000         37.000000   \n",
       "25%    10341.750000  3.477452e+09            18.00000       2974.750000   \n",
       "50%    13199.000000  5.575078e+09            31.00000       6023.500000   \n",
       "75%    16108.250000  7.875904e+09            46.00000       9036.750000   \n",
       "max    19075.000000  9.994544e+09            60.00000     997769.000000   \n",
       "\n",
       "       video_like_count  video_share_count  video_download_count  \\\n",
       "count       1200.000000        1200.000000           1200.000000   \n",
       "mean       30337.633333        6591.448333            358.146667   \n",
       "std        86788.710750       20761.240422           1215.899094   \n",
       "min            1.000000           0.000000              0.000000   \n",
       "25%          403.750000          51.750000              3.000000   \n",
       "50%         1125.000000         178.500000             11.000000   \n",
       "75%         2558.000000         551.750000             34.000000   \n",
       "max       531593.000000      150614.000000          12604.000000   \n",
       "\n",
       "       video_comment_count  \n",
       "count          1200.000000  \n",
       "mean            134.877500  \n",
       "std             546.816121  \n",
       "min               0.000000  \n",
       "25%               0.000000  \n",
       "50%               2.000000  \n",
       "75%               7.000000  \n",
       "max            6294.000000  "
      ]
     },
     "execution_count": 22,
     "metadata": {},
     "output_type": "execute_result"
    }
   ],
   "source": [
    "group_verified.describe()"
   ]
  },
  {
   "cell_type": "code",
   "execution_count": 23,
   "metadata": {},
   "outputs": [
    {
     "data": {
      "text/html": [
       "<div>\n",
       "<style scoped>\n",
       "    .dataframe tbody tr th:only-of-type {\n",
       "        vertical-align: middle;\n",
       "    }\n",
       "\n",
       "    .dataframe tbody tr th {\n",
       "        vertical-align: top;\n",
       "    }\n",
       "\n",
       "    .dataframe thead th {\n",
       "        text-align: right;\n",
       "    }\n",
       "</style>\n",
       "<table border=\"1\" class=\"dataframe\">\n",
       "  <thead>\n",
       "    <tr style=\"text-align: right;\">\n",
       "      <th></th>\n",
       "      <th>#</th>\n",
       "      <th>video_id</th>\n",
       "      <th>video_duration_sec</th>\n",
       "      <th>video_view_count</th>\n",
       "      <th>video_like_count</th>\n",
       "      <th>video_share_count</th>\n",
       "      <th>video_download_count</th>\n",
       "      <th>video_comment_count</th>\n",
       "    </tr>\n",
       "  </thead>\n",
       "  <tbody>\n",
       "    <tr>\n",
       "      <th>count</th>\n",
       "      <td>17884.000000</td>\n",
       "      <td>1.788400e+04</td>\n",
       "      <td>17884.000000</td>\n",
       "      <td>17884.000000</td>\n",
       "      <td>17884.000000</td>\n",
       "      <td>17884.000000</td>\n",
       "      <td>17884.000000</td>\n",
       "      <td>17884.000000</td>\n",
       "    </tr>\n",
       "    <tr>\n",
       "      <th>mean</th>\n",
       "      <td>9341.701409</td>\n",
       "      <td>5.624769e+09</td>\n",
       "      <td>32.467345</td>\n",
       "      <td>265663.785339</td>\n",
       "      <td>87925.772422</td>\n",
       "      <td>17415.888000</td>\n",
       "      <td>1095.814080</td>\n",
       "      <td>363.700514</td>\n",
       "    </tr>\n",
       "    <tr>\n",
       "      <th>std</th>\n",
       "      <td>5506.011795</td>\n",
       "      <td>2.539354e+09</td>\n",
       "      <td>16.243278</td>\n",
       "      <td>325681.881915</td>\n",
       "      <td>135210.873770</td>\n",
       "      <td>32541.021563</td>\n",
       "      <td>2037.999927</td>\n",
       "      <td>811.781519</td>\n",
       "    </tr>\n",
       "    <tr>\n",
       "      <th>min</th>\n",
       "      <td>1.000000</td>\n",
       "      <td>1.234959e+09</td>\n",
       "      <td>5.000000</td>\n",
       "      <td>20.000000</td>\n",
       "      <td>0.000000</td>\n",
       "      <td>0.000000</td>\n",
       "      <td>0.000000</td>\n",
       "      <td>0.000000</td>\n",
       "    </tr>\n",
       "    <tr>\n",
       "      <th>25%</th>\n",
       "      <td>4574.750000</td>\n",
       "      <td>3.418668e+09</td>\n",
       "      <td>18.000000</td>\n",
       "      <td>5160.000000</td>\n",
       "      <td>867.000000</td>\n",
       "      <td>125.000000</td>\n",
       "      <td>8.000000</td>\n",
       "      <td>1.000000</td>\n",
       "    </tr>\n",
       "    <tr>\n",
       "      <th>50%</th>\n",
       "      <td>9140.500000</td>\n",
       "      <td>5.616328e+09</td>\n",
       "      <td>33.000000</td>\n",
       "      <td>46723.000000</td>\n",
       "      <td>5156.000000</td>\n",
       "      <td>879.000000</td>\n",
       "      <td>56.000000</td>\n",
       "      <td>12.000000</td>\n",
       "    </tr>\n",
       "    <tr>\n",
       "      <th>75%</th>\n",
       "      <td>14106.250000</td>\n",
       "      <td>7.837743e+09</td>\n",
       "      <td>47.000000</td>\n",
       "      <td>523099.500000</td>\n",
       "      <td>133181.000000</td>\n",
       "      <td>19677.500000</td>\n",
       "      <td>1278.000000</td>\n",
       "      <td>320.000000</td>\n",
       "    </tr>\n",
       "    <tr>\n",
       "      <th>max</th>\n",
       "      <td>19084.000000</td>\n",
       "      <td>9.999873e+09</td>\n",
       "      <td>60.000000</td>\n",
       "      <td>999817.000000</td>\n",
       "      <td>657830.000000</td>\n",
       "      <td>256130.000000</td>\n",
       "      <td>14994.000000</td>\n",
       "      <td>9599.000000</td>\n",
       "    </tr>\n",
       "  </tbody>\n",
       "</table>\n",
       "</div>"
      ],
      "text/plain": [
       "                  #      video_id  video_duration_sec  video_view_count  \\\n",
       "count  17884.000000  1.788400e+04        17884.000000      17884.000000   \n",
       "mean    9341.701409  5.624769e+09           32.467345     265663.785339   \n",
       "std     5506.011795  2.539354e+09           16.243278     325681.881915   \n",
       "min        1.000000  1.234959e+09            5.000000         20.000000   \n",
       "25%     4574.750000  3.418668e+09           18.000000       5160.000000   \n",
       "50%     9140.500000  5.616328e+09           33.000000      46723.000000   \n",
       "75%    14106.250000  7.837743e+09           47.000000     523099.500000   \n",
       "max    19084.000000  9.999873e+09           60.000000     999817.000000   \n",
       "\n",
       "       video_like_count  video_share_count  video_download_count  \\\n",
       "count      17884.000000       17884.000000          17884.000000   \n",
       "mean       87925.772422       17415.888000           1095.814080   \n",
       "std       135210.873770       32541.021563           2037.999927   \n",
       "min            0.000000           0.000000              0.000000   \n",
       "25%          867.000000         125.000000              8.000000   \n",
       "50%         5156.000000         879.000000             56.000000   \n",
       "75%       133181.000000       19677.500000           1278.000000   \n",
       "max       657830.000000      256130.000000          14994.000000   \n",
       "\n",
       "       video_comment_count  \n",
       "count         17884.000000  \n",
       "mean            363.700514  \n",
       "std             811.781519  \n",
       "min               0.000000  \n",
       "25%               1.000000  \n",
       "50%              12.000000  \n",
       "75%             320.000000  \n",
       "max            9599.000000  "
      ]
     },
     "execution_count": 23,
     "metadata": {},
     "output_type": "execute_result"
    }
   ],
   "source": [
    "group_not_verified.describe()"
   ]
  },
  {
   "cell_type": "markdown",
   "metadata": {},
   "source": [
    "# Comparison of Average Metrics Between Verified and Not Verified Users\n",
    "\n",
    "## Overview\n",
    "\n",
    "The analysis compares the average metrics for two groups of TikTok users: **Verified** and **Not Verified**. Here are the key differences observed:\n",
    "\n",
    "### 1. Average Video View Count\n",
    "\n",
    "- **Verified Users**: \n",
    "  - **Average**: 31.78 views\n",
    "  - **Standard Deviation**: 15.97\n",
    "\n",
    "- **Not Verified Users**: \n",
    "  - **Average**: 32.47 views\n",
    "  - **Standard Deviation**: 16.24\n",
    "\n",
    "**Difference**: The average view count is slightly higher for Not Verified users (32.47) compared to Verified users (31.78). However, the difference is minimal and may not be statistically significant.\n",
    "\n",
    "### 2. Average Video Like Count\n",
    "\n",
    "- **Verified Users**:\n",
    "  - **Average**: 91,439.16 likes\n",
    "  - **Standard Deviation**: 221,138.76\n",
    "\n",
    "- **Not Verified Users**:\n",
    "  - **Average**: 265,663.79 likes\n",
    "  - **Standard Deviation**: 325,681.88\n",
    "\n",
    "**Difference**: Not Verified users have a significantly higher average like count (265,663.79) compared to Verified users (91,439.16). This suggests that Not Verified users' videos tend to receive more likes on average.\n",
    "\n",
    "### 3. Average Video Share Count\n",
    "\n",
    "- **Verified Users**:\n",
    "  - **Average**: 30,337.63 shares\n",
    "  - **Standard Deviation**: 86,788.71\n",
    "\n",
    "- **Not Verified Users**:\n",
    "  - **Average**: 87,925.77 shares\n",
    "  - **Standard Deviation**: 135,210.87\n",
    "\n",
    "**Difference**: The average number of shares is much higher for Not Verified users (87,925.77) compared to Verified users (30,337.63). This indicates that Not Verified users' videos are shared more frequently.\n",
    "\n",
    "### 4. Average Video Download Count\n",
    "\n",
    "- **Verified Users**:\n",
    "  - **Average**: 6,591.45 downloads\n",
    "  - **Standard Deviation**: 20,761.24\n",
    "\n",
    "- **Not Verified Users**:\n",
    "  - **Average**: 17,415.89 downloads\n",
    "  - **Standard Deviation**: 32,541.02\n",
    "\n",
    "**Difference**: Not Verified users also see a higher average number of downloads (17,415.89) compared to Verified users (6,591.45). This suggests a greater level of engagement with videos from Not Verified users.\n",
    "\n",
    "### 5. Average Video Comment Count\n",
    "\n",
    "- **Verified Users**:\n",
    "  - **Average**: 358.15 comments\n",
    "  - **Standard Deviation**: 1,215.90\n",
    "\n",
    "- **Not Verified Users**:\n",
    "  - **Average**: 1,095.81 comments\n",
    "  - **Standard Deviation**: 2,037.99\n",
    "\n",
    "**Difference**: The average number of comments is notably higher for Not Verified users (1,095.81) compared to Verified users (358.15). This indicates that Not Verified users' videos tend to generate more comments.\n",
    "\n",
    "## Conclusion\n",
    "\n",
    "Overall, the analysis reveals that Not Verified users generally have higher average metrics across video likes, shares, downloads, and comments compared to Verified users. This suggests that while the content from Not Verified users might be more engaging or popular, the differences in average view counts are minimal. Further statistical testing could confirm if these differences are significant.\n",
    "\n"
   ]
  },
  {
   "cell_type": "markdown",
   "metadata": {},
   "source": [
    "# Objective of the Analysis\n",
    "\n",
    "The objective of this analysis is to determine whether there is a statistically significant difference in the average number of video views between TikTok users who are verified and those who are not verified. By performing a t-test on a sample of 30 entries from each group, we aim to assess if the observed differences in video view counts are likely to have occurred by chance or if they reflect a true difference in engagement between the two user groups.\n"
   ]
  },
  {
   "cell_type": "code",
   "execution_count": 25,
   "metadata": {},
   "outputs": [],
   "source": [
    "# Lets take two samples of each group to perform AB-test\n",
    "sample_verified  = group_verified['video_view_count'].sample(n = 30, random_state = 2345)\n",
    "sample_not_verified = group_not_verified['video_view_count'].sample(n = 30, random_state= 6789)\n"
   ]
  },
  {
   "cell_type": "markdown",
   "metadata": {},
   "source": [
    "# Hypotheses\n",
    "\n",
    "## Null Hypothesis (H0)\n",
    "\n",
    "The null hypothesis (H0) is that there is no significant difference in the average number of video views between TikTok users who are verified and those who are not verified. In other words, the average video view counts for verified and not verified users are equal.\n",
    "\n",
    "\n",
    "## Alternative Hypothesis (H1)\n",
    "\n",
    "The alternative hypothesis (H1) is that there is a significant difference in the average number of video views between TikTok users who are verified and those who are not verified. This suggests that the average video view counts for verified and not verified users are not equal.\n",
    "\n",
    "#### Our alpha(significance level) is 5% "
   ]
  },
  {
   "cell_type": "code",
   "execution_count": 30,
   "metadata": {},
   "outputs": [
    {
     "name": "stdout",
     "output_type": "stream",
     "text": [
      "T-Statistic: -2.278264734517548\n",
      "P-Value: 0.026928798151695597\n",
      "The difference is statistically significant.\n"
     ]
    }
   ],
   "source": [
    "# Perform a t-test to compare the number of video views between the two samples\n",
    "t_stat, p_value = stats.ttest_ind(\n",
    "    sample_verified,  # Sample of verified users' video views\n",
    "    sample_not_verified,  # Sample of not verified users' video views\n",
    "    equal_var=False  # Assumes unequal variance (Welch's t-test)\n",
    ")\n",
    "\n",
    "# Print the t-statistic and p-value for the t-test\n",
    "print(f\"T-Statistic: {t_stat}\")  # T-statistic value indicates the magnitude of difference between samples\n",
    "print(f\"P-Value: {p_value}\")  # P-value shows the probability of observing the data if the null hypothesis is true\n",
    "\n",
    "# Set significance level for the test\n",
    "alpha = 0.05\n",
    "\n",
    "# Interpret the results based on the p-value\n",
    "if p_value < alpha:\n",
    "    print(\"The difference is statistically significant.\")  \n",
    "else:\n",
    "    print(\"The difference is not statistically significant.\")  \n"
   ]
  },
  {
   "cell_type": "markdown",
   "metadata": {},
   "source": [
    "### Z-test"
   ]
  },
  {
   "cell_type": "code",
   "execution_count": 31,
   "metadata": {},
   "outputs": [
    {
     "name": "stdout",
     "output_type": "stream",
     "text": [
      "Z-Statistic: -2.278264734517548\n",
      "P-Value: 0.02271080944001702\n",
      "The difference is statistically significant.\n"
     ]
    }
   ],
   "source": [
    "# Calculate means and standard deviations\n",
    "mean_verified = sample_verified.mean()\n",
    "std_verified = sample_verified.std()\n",
    "mean_not_verified = sample_not_verified.mean()\n",
    "std_not_verified = sample_not_verified.std()\n",
    "\n",
    "# Calculate the pooled standard deviation\n",
    "pooled_std = np.sqrt(((std_verified ** 2 / len(sample_verified)) + (std_not_verified ** 2 / len(sample_not_verified))))\n",
    "\n",
    "# Calculate the Z-statistic\n",
    "z_stat = (mean_verified - mean_not_verified) / pooled_std\n",
    "\n",
    "# Calculate the p-value from the Z-statistic\n",
    "p_value = 2 * (1 - stats.norm.cdf(np.abs(z_stat)))  # Two-tailed test\n",
    "\n",
    "# Print the Z-statistic and p-value\n",
    "print(f\"Z-Statistic: {z_stat}\")\n",
    "print(f\"P-Value: {p_value}\")\n",
    "\n",
    "# Set significance level for the test\n",
    "alpha = 0.05\n",
    "\n",
    "# Interpret the results based on the p-value\n",
    "if p_value < alpha:\n",
    "    print(\"The difference is statistically significant.\")\n",
    "else:\n",
    "    print(\"The difference is not statistically significant.\")\n"
   ]
  },
  {
   "cell_type": "markdown",
   "metadata": {},
   "source": [
    "There is a significant difference in the average number of video views between verified and not verified TikTok users. Verified users, on average, have fewer video views compared to not verified users, according to the sampled data. This finding may suggest that verification status impacts video view counts, although further analysis and additional data may be needed to confirm this trend across the entire population."
   ]
  },
  {
   "cell_type": "markdown",
   "metadata": {},
   "source": [
    "### Number of Likes (`video_like_count`)\n",
    "\n",
    "#### Null Hypothesis (H0)\n",
    "The null hypothesis (H0) is that there is no significant difference in the average number of likes between videos from TikTok users with `author_ban_status` as \"active\" and those with `author_ban_status` as \"under review\" or \"banned\". In other words, the average number of likes for videos from active users is equal to the average number of likes for videos from users under review or banned.\n",
    "\n",
    "\n",
    "#### Alternative Hypothesis (H1)\n",
    "The alternative hypothesis (H1) is that there is a significant difference in the average number of likes between videos from TikTok users with `author_ban_status` as \"active\" and those with `author_ban_status` as \"under review\" or \"banned\". This suggests that the average number of likes for videos from active users is not equal to the average number of likes for videos from users under review or banned.\n",
    "\n",
    "\n"
   ]
  },
  {
   "cell_type": "code",
   "execution_count": 33,
   "metadata": {},
   "outputs": [
    {
     "name": "stdout",
     "output_type": "stream",
     "text": [
      "T-Statistic: -4.34013678873807\n",
      "P-Value (T-Test): 2.4282045829150566e-05\n",
      "Z-Statistic: -4.340136788738069\n",
      "P-Value (Z-Test): 1.423940488431974e-05\n",
      "\n",
      "Interpretation:\n",
      "T-Test: The difference in the average number of likes is statistically significant.\n",
      "Z-Test: The difference in the average number of likes is statistically significant.\n"
     ]
    }
   ],
   "source": [
    "# Split data into groups\n",
    "group_active = data[data['author_ban_status'] == 'active']\n",
    "group_under_review = data[data['author_ban_status'] == 'under review']\n",
    "\n",
    "# Sample 100 from each group\n",
    "sample_active = group_active['video_like_count'].dropna().sample(n=100, random_state=1)\n",
    "sample_under_review = group_under_review['video_like_count'].dropna().sample(n=100, random_state=1)\n",
    "\n",
    "# T-test\n",
    "t_stat, p_value_t = stats.ttest_ind(sample_active, sample_under_review, equal_var=False)\n",
    "print(f\"T-Statistic: {t_stat}\")\n",
    "print(f\"P-Value (T-Test): {p_value_t}\")\n",
    "\n",
    "# Z-test\n",
    "mean_active = sample_active.mean()\n",
    "mean_under_review = sample_under_review.mean()\n",
    "std_active = sample_active.std()\n",
    "std_under_review = sample_under_review.std()\n",
    "n_active = len(sample_active)\n",
    "n_under_review = len(sample_under_review)\n",
    "\n",
    "# Calculate the z-statistic\n",
    "pooled_std = np.sqrt((std_active**2 / n_active) + (std_under_review**2 / n_under_review))\n",
    "z_stat = (mean_active - mean_under_review) / pooled_std\n",
    "# Two-tailed p-value for z-test\n",
    "p_value_z = 2 * (1 - stats.norm.cdf(np.abs(z_stat)))\n",
    "print(f\"Z-Statistic: {z_stat}\")\n",
    "print(f\"P-Value (Z-Test): {p_value_z}\")\n",
    "\n",
    "# Interpretation\n",
    "alpha = 0.05\n",
    "print(\"\\nInterpretation:\")\n",
    "if p_value_t < alpha:\n",
    "    print(\"T-Test: The difference in the average number of likes is statistically significant.\")\n",
    "else:\n",
    "    print(\"T-Test: The difference in the average number of likes is not statistically significant.\")\n",
    "\n",
    "if p_value_z < alpha:\n",
    "    print(\"Z-Test: The difference in the average number of likes is statistically significant.\")\n",
    "else:\n",
    "    print(\"Z-Test: The difference in the average number of likes is not statistically significant.\")"
   ]
  },
  {
   "cell_type": "markdown",
   "metadata": {},
   "source": [
    "Both the T-test and Z-test confirm that there is a significant difference in the average number of likes for videos between users with different author ban statuses. Specifically, videos from users with the \"active\" status have a different average number of likes compared to those with \"under review\" status."
   ]
  }
 ],
 "metadata": {
  "colab": {
   "provenance": [],
   "toc_visible": true
  },
  "kernelspec": {
   "display_name": "Python 3",
   "language": "python",
   "name": "python3"
  },
  "language_info": {
   "codemirror_mode": {
    "name": "ipython",
    "version": 3
   },
   "file_extension": ".py",
   "mimetype": "text/x-python",
   "name": "python",
   "nbconvert_exporter": "python",
   "pygments_lexer": "ipython3",
   "version": "3.7.6"
  }
 },
 "nbformat": 4,
 "nbformat_minor": 1
}
